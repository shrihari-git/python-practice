{
 "cells": [
  {
   "cell_type": "code",
   "execution_count": 5,
   "metadata": {},
   "outputs": [
    {
     "name": "stdout",
     "output_type": "stream",
     "text": [
      "hello world\n",
      "im in the python class\n",
      "trying the file operations"
     ]
    }
   ],
   "source": [
    "# Write a function in python to read the content from \n",
    "# a text file \"poem.txt\" line by line and display the same on screen.\n",
    "\n",
    "def readFile(filename):\n",
    "    try:\n",
    "        with open(filename, 'r') as f:\n",
    "            for line in f:\n",
    "                print(line, end=\"\")\n",
    "    except FileNotFoundError:\n",
    "        print(f\"Sorry file:{filename} not found!!\")\n",
    "readFile(\"poem.txt\")\n"
   ]
  },
  {
   "cell_type": "code",
   "execution_count": 23,
   "metadata": {},
   "outputs": [
    {
     "name": "stdout",
     "output_type": "stream",
     "text": [
      "3\n",
      "Number of lines not starting with character 'T' is 3\n"
     ]
    }
   ],
   "source": [
    "# Write a function in python to count the number of lines \n",
    "# from a text file \"story.txt\" which is not starting with an alphabet \"T\". \n",
    "\n",
    "# Example: If the file \"story.txt\" contains the following lines: A boy is playing there.\n",
    "# There is a playground.\n",
    "# An aeroplane is in the sky.\n",
    "# The sky is pink.\n",
    "# Alphabets and numbers are allowed in the password.\n",
    "# The function should display the output as 3\n",
    "\n",
    "def countlines(filename, omitStartingChar):\n",
    "    try:\n",
    "        with open(filename, 'r') as f:\n",
    "            count=0\n",
    "            for line in f:\n",
    "                if line[0] != omitStartingChar:\n",
    "                    count +=1\n",
    "            print(count)\n",
    "            return count\n",
    "    except FileNotFoundError:\n",
    "        print(f\"Sorry file:{filename} not found!!\")\n",
    "    \n",
    "    return None\n",
    "    \n",
    "    \n",
    "print(f'''Number of lines not starting with character 'T' is {countlines(\"story.txt\", \"T\")}''')"
   ]
  },
  {
   "cell_type": "code",
   "execution_count": 12,
   "metadata": {},
   "outputs": [
    {
     "data": {
      "text/plain": [
       "11"
      ]
     },
     "execution_count": 12,
     "metadata": {},
     "output_type": "execute_result"
    }
   ],
   "source": [
    "# Write a function in Python to count and display the total number of words in a text file.\n",
    "\n",
    "def countWords(filename):\n",
    "    try:\n",
    "        with open(filename, 'r') as f:\n",
    "            content = f.read()\n",
    "            words = content.split()\n",
    "            count = len(words)\n",
    "            return count\n",
    "    except FileNotFoundError:\n",
    "        print(f\"Sorry file:{filename} not found!!\")\n",
    "        \n",
    "    return None\n",
    "\n",
    "countWords(\"poem.txt\")"
   ]
  },
  {
   "cell_type": "code",
   "execution_count": 18,
   "metadata": {},
   "outputs": [
    {
     "data": {
      "text/plain": [
       "5"
      ]
     },
     "execution_count": 18,
     "metadata": {},
     "output_type": "execute_result"
    }
   ],
   "source": [
    "# Write a function in Python to read lines from a text file \"notes.txt\". \n",
    "# Your function should find and display the occurrence of the word \"the\".\n",
    "\n",
    "# For example: If the content of the file is:\n",
    "# \"India is the fastest-growing economy. India is looking for more investments around the globe. The whole world is looking at India as a great market. Most of the Indians can foresee the heights that India is capable of reaching.\"\n",
    "\n",
    "# The output should be 5.\n",
    "\n",
    "def countWordOccurance(filename, myWord):\n",
    "    try:\n",
    "        with open(filename, 'r') as f:\n",
    "            content = f.read()\n",
    "            words = content.split()\n",
    "            count = 0\n",
    "            for word in words:\n",
    "                if word == myWord or word.lower() == myWord.lower():\n",
    "                    count += 1\n",
    "            return count\n",
    "    except FileNotFoundError:\n",
    "        print(f\"Sorry file:{filename} not found!!\")\n",
    "        \n",
    "    return None\n",
    "\n",
    "countWordOccurance(\"notes.txt\", \"the\")\n"
   ]
  },
  {
   "cell_type": "code",
   "execution_count": 19,
   "metadata": {},
   "outputs": [
    {
     "name": "stdout",
     "output_type": "stream",
     "text": [
      "['A', 'boy', 'is', 'is', 'a', 'An', 'is', 'in', 'the', 'The', 'sky', 'is', 'and', 'are', 'in', 'the']\n"
     ]
    },
    {
     "data": {
      "text/plain": [
       "['A',\n",
       " 'boy',\n",
       " 'is',\n",
       " 'is',\n",
       " 'a',\n",
       " 'An',\n",
       " 'is',\n",
       " 'in',\n",
       " 'the',\n",
       " 'The',\n",
       " 'sky',\n",
       " 'is',\n",
       " 'and',\n",
       " 'are',\n",
       " 'in',\n",
       " 'the']"
      ]
     },
     "execution_count": 19,
     "metadata": {},
     "output_type": "execute_result"
    }
   ],
   "source": [
    "# Write a function display_words() in python to read lines from a text file \"story.txt\", \n",
    "# and display those words, which are less than 4 characters.\n",
    "\n",
    "def display_words(filename, sizelimit):\n",
    "    out = []\n",
    "    try:\n",
    "        with open(filename, 'r') as f:\n",
    "            content = f.read()\n",
    "            words = content.split()\n",
    "            count = 0\n",
    "            for word in words:\n",
    "                if len(word) < sizelimit:\n",
    "                    out.append(word)\n",
    "            print(out)\n",
    "            return out\n",
    "    except FileNotFoundError:\n",
    "        print(f\"Sorry file:{filename} not found!!\")\n",
    "        \n",
    "    return None\n",
    "\n",
    "display_words(\"story.txt\", 4)"
   ]
  },
  {
   "cell_type": "code",
   "execution_count": 22,
   "metadata": {},
   "outputs": [
    {
     "data": {
      "text/plain": [
       "7"
      ]
     },
     "execution_count": 22,
     "metadata": {},
     "output_type": "execute_result"
    }
   ],
   "source": [
    "# Write a function in Python to count the words \"this\" and \"these\" present in a text file \"article.txt\". \n",
    "# [Note that the words \"this\" and \"these\" are complete words] \n",
    "\n",
    "\n",
    "def countAllWordsOccurance(filename, myWords):\n",
    "    myWordsLowerCase = [w.lower() for w in myWords]\n",
    "    try:\n",
    "        with open(filename, 'r') as f:\n",
    "            content = f.read()\n",
    "            words = content.split()\n",
    "            count = 0\n",
    "            for word in words:\n",
    "                if word in myWords or word.lower() in myWordsLowerCase:\n",
    "                    count += 1\n",
    "            return count\n",
    "    except FileNotFoundError:\n",
    "        print(f\"Sorry file:{filename} not found!!\")\n",
    "        \n",
    "    return None\n",
    "\n",
    "# countAllWordsOccurance(\"article.txt\", [\"this\", \"these\"])\n",
    "countAllWordsOccurance(\"story.txt\", [\"is\", \"the\"])\n"
   ]
  },
  {
   "cell_type": "code",
   "execution_count": 29,
   "metadata": {},
   "outputs": [
    {
     "data": {
      "text/plain": [
       "1"
      ]
     },
     "execution_count": 29,
     "metadata": {},
     "output_type": "execute_result"
    }
   ],
   "source": [
    "# Write a function in Python to count words in a text file those are ending with alphabet \"e\"\n",
    "def countlinesEndingWith(filename, endingChar):\n",
    "    try:\n",
    "        with open(filename, 'r') as f:\n",
    "            count=0\n",
    "            for line in f:\n",
    "                if line.strip()[-1] == endingChar:\n",
    "                    count +=1\n",
    "            return count\n",
    "    except FileNotFoundError:\n",
    "        print(f\"Sorry file:{filename} not found!!\")\n",
    "    \n",
    "    return None\n",
    "\n",
    "countlinesEndingWith(\"story.txt\", \"e\")"
   ]
  },
  {
   "cell_type": "code",
   "execution_count": 32,
   "metadata": {},
   "outputs": [
    {
     "data": {
      "text/plain": [
       "5"
      ]
     },
     "execution_count": 32,
     "metadata": {},
     "output_type": "execute_result"
    }
   ],
   "source": [
    "# Write a function in Python to count uppercase character in a text file.\n",
    "def countUpperCaseChars(filename):\n",
    "    try:\n",
    "        with open(filename, 'r') as f:\n",
    "            count=0\n",
    "            content = f.read()\n",
    "            for c in content:\n",
    "                if c.isupper():\n",
    "                    count +=1\n",
    "            return count\n",
    "    except FileNotFoundError:\n",
    "        print(f\"Sorry file:{filename} not found!!\")\n",
    "    return None\n",
    "\n",
    "countUpperCaseChars(\"story.txt\")"
   ]
  },
  {
   "cell_type": "code",
   "execution_count": 34,
   "metadata": {},
   "outputs": [
    {
     "name": "stdout",
     "output_type": "stream",
     "text": [
      "T#H#E# #W#O#R#L#D# #I#S# #R#O#U#N#D#"
     ]
    }
   ],
   "source": [
    "# A text file named \"matter.txt\" contains some text, which needs to be displayed such that \n",
    "# every next character is separated by a symbol \"#\". \n",
    "# Write a function definition for hash_display() in Python that would display \n",
    "# the entire content of the file matter.txt in the desired format.\n",
    "\n",
    "# Example :\n",
    "# If the file matter.txt has the following content stored in it :\n",
    "# THE WORLD IS ROUND\n",
    "\n",
    "# The function hash_display() should display the following content :\n",
    "# T#H#E# #W#O#R#L#D# #I#S# #R#O#U#N#D#\n",
    "def hash_display(filename):\n",
    "    try:\n",
    "        with open(filename, 'r') as f:\n",
    "            count=0\n",
    "            content = f.read()\n",
    "            for c in content:\n",
    "                print(c, end = \"#\")\n",
    "    except FileNotFoundError:\n",
    "        print(f\"Sorry file:{filename} not found!!\")\n",
    "\n",
    "\n",
    "hash_display(\"matter.txt\")"
   ]
  },
  {
   "cell_type": "code",
   "execution_count": 36,
   "metadata": {},
   "outputs": [
    {
     "name": "stdout",
     "output_type": "stream",
     "text": [
      "WELL, THIS IS A WORD BY ITSELF. YOU COULD STRETCH THIS TO BE A SENTENCE"
     ]
    }
   ],
   "source": [
    "# Aditi has used a text editing software to type some text. After saving the article as WORDS.TXT, \n",
    "# she realised that she has wrongly typed alphabet J in place of alphabet I everywhere in the article.\n",
    "# Write a function definition for JTOI() in Python that would display the corrected version of entire content \n",
    "# of the file WORDS.TXT with all the alphabets \"J\" to be displayed as an alphabet \"I\" on screen.\n",
    "\n",
    "# Note: Assuming that WORD.TXT does not contain any J alphabet otherwise.\n",
    "\n",
    "# Example:\n",
    "# If Aditi has stored the following content in the file WORDS.TXT:\n",
    "# WELL, THJS JS A WORD BY JTSELF. YOU COULD STRETCH THJS TO BE A SENTENCE\n",
    "# The function JTOI() should display the following content:\n",
    "# WELL, THIS IS A WORD BY ITSELF. YOU COULD STRETCH THIS TO BE A SENTENCE\n",
    "def JTOI(filename):\n",
    "    try:\n",
    "        with open(filename, 'r') as f:\n",
    "            count=0\n",
    "            content = f.read()\n",
    "            for c in content:\n",
    "                if c == \"J\":\n",
    "                    print(\"I\", end=\"\")\n",
    "                elif c == \"j\":\n",
    "                    print(\"i\", end=\"\")\n",
    "                else:\n",
    "                    print(c, end=\"\")\n",
    "                \n",
    "    except FileNotFoundError:\n",
    "        print(f\"Sorry file:{filename} not found!!\")\n",
    "\n",
    "\n",
    "JTOI(\"WORDS.txt\")"
   ]
  },
  {
   "cell_type": "code",
   "execution_count": 38,
   "metadata": {},
   "outputs": [
    {
     "name": "stdout",
     "output_type": "stream",
     "text": [
      "A or a:13\n",
      "M or m:1\n"
     ]
    }
   ],
   "source": [
    "# Write a function AMCount() in Python, which should read each character of a text file STORY.TXT, \n",
    "# should count and display the occurance of alphabets A and M (including small cases a and m too).\n",
    "# For Example:\n",
    "# If the file content is as follows:\n",
    "# Updated information\n",
    "# As simplified by official websites.\n",
    "# The EUCount() function should display the output as:\n",
    "# A or a:4\n",
    "# M or m :2\n",
    "\n",
    "def charsCount(filename, charList):\n",
    "    countList = [0 for c in charList]\n",
    "    try:\n",
    "        with open(filename, 'r') as f:\n",
    "            content = f.read()\n",
    "            for i in range(len(charList)):\n",
    "                upperCaseChar = charList[i].upper()\n",
    "                lowerCaseChar = charList[i].lower()\n",
    "                countList[i] += content.count(upperCaseChar)\n",
    "                countList[i] += content.count(lowerCaseChar)\n",
    "            return countList\n",
    "    except FileNotFoundError:\n",
    "        print(f\"Sorry file:{filename} not found!!\")\n",
    "        \n",
    "    return None\n",
    "\n",
    "def AMCount(filename):\n",
    "    out = charsCount(filename, [\"A\", \"M\"])\n",
    "    if out == None:\n",
    "        return\n",
    "    print(f\"A or a:{out[0]}\")\n",
    "    print(f\"M or m:{out[1]}\")\n",
    "\n",
    "AMCount(\"story.txt\")"
   ]
  },
  {
   "cell_type": "code",
   "execution_count": 53,
   "metadata": {},
   "outputs": [
    {
     "name": "stdout",
     "output_type": "stream",
     "text": [
      "Do you want to add book records?No\n",
      "Search books with author name:hari\n"
     ]
    },
    {
     "data": {
      "text/plain": [
       "2"
      ]
     },
     "execution_count": 53,
     "metadata": {},
     "output_type": "execute_result"
    }
   ],
   "source": [
    "# A binary file \"Book.dat\" has structure [BookNo, Book_Name, Author, Price].\n",
    "# i. Write a user defined function createFile() to input data for a record and add to Book.dat.\n",
    "# ii. Write a function countRec(Author) in Python which accepts the Author name as parameter \n",
    "# and count and return number of books by the given Author are stored in the binary file \"Book.dat\"\n",
    "\n",
    "import pickle\n",
    "\n",
    "def createFile(filename, record):\n",
    "    try:\n",
    "        with open(filename, 'a+b') as f:\n",
    "            pickle.dump(record, f)\n",
    "    except:\n",
    "        print(f\"Could not create the file:{filename}\")\n",
    "\n",
    "def addBookRecord(filename):\n",
    "    try:\n",
    "        bookNo = int(input(\"Enter the book's no:\"))\n",
    "        bookName = input(\"Enter the book's name:\")\n",
    "        authorName =input(\"Enter the author's name:\")\n",
    "        price = int(input(\"Enter the book's price:\"))\n",
    "    except:\n",
    "        print(\"Invalid data entered\")\n",
    "        return    \n",
    "    newBookRecord = [bookNo, bookName, authorName, price]\n",
    "    createFile(filename, newBookRecord)\n",
    "    \n",
    "def countRec(filename, authorName):\n",
    "    try:\n",
    "        with open(filename, 'r+b') as f:\n",
    "#             binContent = f.read()\n",
    "            count = 0\n",
    "            while True:\n",
    "#               records = pickle.loads(binContent)\n",
    "#               print((records))\n",
    "                record = pickle.load(f)\n",
    "                if record[2] == authorName:\n",
    "                    count +=1\n",
    "    except FileNotFoundError:\n",
    "        print(f\"Sorry file:{filename} not found!!\")\n",
    "        return None\n",
    "    except EOFError:\n",
    "        #do nothing\n",
    "        pass\n",
    "    except:\n",
    "        print(\"Some exception happened\")\n",
    "        return None\n",
    "    return count\n",
    "\n",
    "while True:\n",
    "    userinput = input(\"Do you want to add book records?\")\n",
    "    if userinput in (\"No\", \"NO\", \"no\", \"N\", \"n\"):\n",
    "        break\n",
    "    addBookRecord(\"Book.dat\")\n",
    "    \n",
    "authorName = input('Search books with author name:')\n",
    "countRec(\"Book.dat\",authorName)\n"
   ]
  },
  {
   "cell_type": "code",
   "execution_count": 2,
   "metadata": {},
   "outputs": [
    {
     "name": "stdout",
     "output_type": "stream",
     "text": [
      "Do you want to add Student records?n\n",
      "hari with admission number 101 scored 100.0%\n",
      "shri with admission number 102 scored 99.0%\n",
      "rakesh with admission number 105 scored 80.0%\n"
     ]
    },
    {
     "data": {
      "text/plain": [
       "3"
      ]
     },
     "execution_count": 2,
     "metadata": {},
     "output_type": "execute_result"
    }
   ],
   "source": [
    "# A binary file \"STUDENT.DAT\" has structure (admission_number, Name, Percentage). \n",
    "# Write a function count_rec() in Python that would read contents of the file \"STUDENT.DAT\" \n",
    "# and display the details of those students whose percentage is above 75. \n",
    "# Also display number of students scoring above 75%\n",
    "\n",
    "import pickle\n",
    "\n",
    "def createFile(filename, record):\n",
    "    try:\n",
    "        with open(filename, 'a+b') as f:\n",
    "            pickle.dump(record, f)\n",
    "    except:\n",
    "        print(f\"Could not create the file:{filename}\")\n",
    "\n",
    "def addStudentRecord(filename):\n",
    "    try:\n",
    "        admissionNo = int(input(\"Enter the Student's Admission no:\"))\n",
    "        name = input(\"Enter the Student's name:\")\n",
    "        percentage = float(input(\"Enter the percentage marks scored:\"))\n",
    "        if percentage > 100 or percentage < 0:\n",
    "            raise ValueError(\"Percentage should be between 0 to 100\")\n",
    "        newStudentRecord = [admissionNo, name, percentage]\n",
    "    except ValueError as e:\n",
    "        print(e)\n",
    "        return\n",
    "    except:\n",
    "        print(\"Invalid data entered\")\n",
    "        return    \n",
    "    createFile(filename, newStudentRecord)\n",
    "\n",
    "def count_rec(filename, percentageMark):\n",
    "    try:\n",
    "        with open(filename, 'r+b') as f:\n",
    "            count = 0\n",
    "            while True:\n",
    "                record = pickle.load(f)\n",
    "                if record[2] > percentageMark:\n",
    "                    print(f\"{record[1]} with admission number {record[0]} scored {record[2]}%\")\n",
    "                    count +=1\n",
    "    except FileNotFoundError:\n",
    "        print(f\"Sorry file:{filename} not found!!\")\n",
    "        return None\n",
    "    except EOFError:\n",
    "        #do nothing\n",
    "        pass\n",
    "    except:\n",
    "        print(\"Some exception happened\")\n",
    "        return None\n",
    "    return count\n",
    "\n",
    "\n",
    "while True:\n",
    "    userinput = input(\"Do you want to add Student records?\")\n",
    "    if userinput in (\"No\", \"NO\", \"no\", \"N\", \"n\"):\n",
    "        break\n",
    "    addStudentRecord(\"Student.dat\")\n",
    "    \n",
    "count_rec(\"Student.dat\",75)\n"
   ]
  },
  {
   "cell_type": "code",
   "execution_count": 4,
   "metadata": {},
   "outputs": [
    {
     "name": "stdout",
     "output_type": "stream",
     "text": [
      "Do you want to add Employee records?n\n",
      "Hari with code 101 makes 90000.0\n",
      "Manish with code M600 makes 50000.0\n"
     ]
    }
   ],
   "source": [
    "# Given a binary file employee.dat, created using dictionary object having keys: (empcode, name, and salary)\n",
    "\n",
    "# Write a python function that add one more record at the end of file.\n",
    "# Write a python function that display all employee records whose salary is more that 30000\n",
    "\n",
    "import pickle\n",
    "\n",
    "def createFile(filename, record):\n",
    "    try:\n",
    "        with open(filename, 'a+b') as f:\n",
    "            pickle.dump(record, f)\n",
    "    except:\n",
    "        print(f\"Could not create the file:{filename}\")\n",
    "\n",
    "def addEmployeeRecord(filename):\n",
    "    try:\n",
    "        empCode = input(\"Enter the Employee's code:\")\n",
    "        name = input(\"Enter the Employee's name:\")\n",
    "        salary = float(input(\"Enter the Employee's salary:\"))\n",
    "        if salary < 0:\n",
    "            raise ValueError(\"Salary cannot be negative\")\n",
    "        newEmpRecord = {'empCode':empCode, 'name':name, 'salary':salary}\n",
    "    except ValueError as e:\n",
    "        print(e)\n",
    "        return\n",
    "    except:\n",
    "        print(\"Invalid data entered\")\n",
    "        return    \n",
    "    createFile(filename, newEmpRecord)\n",
    "\n",
    "def count_emp(filename, minSalary):\n",
    "    try:\n",
    "        with open(filename, 'r+b') as f:\n",
    "            while True:\n",
    "                record = pickle.load(f)\n",
    "                if record['salary'] > minSalary:\n",
    "                    print(f\"{record['name']} with code {record['empCode']} makes {record['salary']}\")\n",
    "    except FileNotFoundError:\n",
    "        print(f\"Sorry file:{filename} not found!!\")\n",
    "    except EOFError:\n",
    "        #do nothing\n",
    "        pass\n",
    "    except:\n",
    "        print(\"Some exception happened\")\n",
    "\n",
    "\n",
    "while True:\n",
    "    userinput = input(\"Do you want to add Employee records?\")\n",
    "    if userinput in (\"No\", \"NO\", \"no\", \"N\", \"n\"):\n",
    "        break\n",
    "    addEmployeeRecord(\"employee.dat\")\n",
    "    \n",
    "count_emp(\"employee.dat\",30000)"
   ]
  },
  {
   "cell_type": "code",
   "execution_count": 5,
   "metadata": {},
   "outputs": [
    {
     "name": "stdout",
     "output_type": "stream",
     "text": [
      "Do you want to add Student records?y\n",
      "Enter the Student's roll no:1001\n",
      "Enter the Student's name:hari\n",
      "Enter class:A\n",
      "Enter Fees:500\n",
      "Do you want to add Student records?y\n",
      "Enter the Student's roll no:1003\n",
      "Enter the Student's name:shri\n",
      "Enter class:B\n",
      "Enter Fees:600\n",
      "Do you want to add Student records?y\n",
      "Enter the Student's roll no:1005\n",
      "Enter the Student's name:ajay\n",
      "Enter class:c\n",
      "Enter Fees:800\n",
      "Do you want to add Student records?y\n",
      "Enter the Student's roll no:1008\n",
      "Enter the Student's name:Ram\n",
      "Enter class:A\n",
      "Enter Fees:600\n",
      "Do you want to add Student records?n\n",
      "ajay with roll number 1005 found in class c paying fees 800.0\n"
     ]
    }
   ],
   "source": [
    "# Write a function to search and display details of student whose rollno is '1005' \n",
    "# from the binary file student.dat having structure [rollno, name, class and fees].\n",
    "\n",
    "import pickle\n",
    "\n",
    "def createFile(filename, record):\n",
    "    try:\n",
    "        with open(filename, 'a+b') as f:\n",
    "            pickle.dump(record, f)\n",
    "    except:\n",
    "        print(f\"Could not create the file:{filename}\")\n",
    "\n",
    "def addNewStudentRecord(filename):\n",
    "    try:\n",
    "        rollNo = int(input(\"Enter the Student's roll no:\"))\n",
    "        name = input(\"Enter the Student's name:\")\n",
    "        schoolclass = input(\"Enter class:\")\n",
    "        fees = float(input(\"Enter Fees:\"))\n",
    "        newStudentRecord = [rollNo, name, schoolclass, fees]\n",
    "    except ValueError as e:\n",
    "        print(e)\n",
    "        return\n",
    "    except:\n",
    "        print(\"Invalid data entered\")\n",
    "        return    \n",
    "    createFile(filename, newStudentRecord)\n",
    "\n",
    "def searchStudent(filename, my_rollNo):\n",
    "    try:\n",
    "        with open(filename, 'r+b') as f:\n",
    "            while True:\n",
    "                record = pickle.load(f)\n",
    "                rollNo, name, schoolclass, fees = record\n",
    "                if rollNo == my_rollNo:\n",
    "                    print(f\"{name} with roll number {rollNo} found in class {schoolclass} paying fees {fees}\")\n",
    "    except FileNotFoundError:\n",
    "        print(f\"Sorry file:{filename} not found!!\")\n",
    "    except EOFError:\n",
    "        #do nothing\n",
    "        pass\n",
    "    except:\n",
    "        print(\"Some exception happened\")\n",
    "\n",
    "\n",
    "while True:\n",
    "    userinput = input(\"Do you want to add Student records?\")\n",
    "    if userinput in (\"No\", \"NO\", \"no\", \"N\", \"n\"):\n",
    "        break\n",
    "    addNewStudentRecord(\"Student1.dat\")\n",
    "    \n",
    "searchStudent(\"Student1.dat\",1005)"
   ]
  },
  {
   "cell_type": "code",
   "execution_count": 6,
   "metadata": {},
   "outputs": [
    {
     "data": {
      "text/plain": [
       "2500.0"
      ]
     },
     "execution_count": 6,
     "metadata": {},
     "output_type": "execute_result"
    }
   ],
   "source": [
    "# A binary file school.dat has structure(rollno, name, class, fees)\n",
    "\n",
    "# Write a definition for function total_fees( ) that reads each object of file and calculate \n",
    "# the total fees of students and display the same.\n",
    "\n",
    "def total_fees(filename):\n",
    "    totalFees = 0\n",
    "    try:\n",
    "        with open(filename, 'r+b') as f:\n",
    "            while True:\n",
    "                record = pickle.load(f)\n",
    "                rollNo, name, schoolclass, fees = record\n",
    "                totalFees += fees\n",
    "    except FileNotFoundError:\n",
    "        print(f\"Sorry file:{filename} not found!!\")\n",
    "        return None\n",
    "    except EOFError:\n",
    "        #do nothing\n",
    "        pass\n",
    "    except:\n",
    "        print(\"Some exception happened\")\n",
    "        return None\n",
    "    \n",
    "    return totalFees\n",
    "\n",
    "total_fees(\"Student1.dat\")"
   ]
  },
  {
   "cell_type": "code",
   "execution_count": 11,
   "metadata": {},
   "outputs": [
    {
     "name": "stdout",
     "output_type": "stream",
     "text": [
      "Do you want to add Player records?n\n",
      "Ajay Jadeja with code 3 plays for the India and have scored 9000.0 total runs\n",
      "Ambrose with code 10 plays for the WestIndies and have scored 2000.0 total runs\n",
      "Abd with code 30 plays for the SouthAfrica and have scored 8000.0 total runs\n",
      "3 players play for India\n"
     ]
    }
   ],
   "source": [
    "# A binary file players.dat, containing records of following list format: [code, name, country and total runs]\n",
    "\n",
    "# 1. Write a python function that display all records where player name starts from 'A'\n",
    "# 2. Write a python function that accept country as an argument and count and display \n",
    "#     the number of players of that country.\n",
    "# 3. Write a python function that add one record at the end of file.\n",
    "\n",
    "import pickle\n",
    "\n",
    "def createFile(filename, record):\n",
    "    try:\n",
    "        with open(filename, 'a+b') as f:\n",
    "            pickle.dump(record, f)\n",
    "    except:\n",
    "        print(f\"Could not create the file:{filename}\")\n",
    "\n",
    "def addNewPlayerRecord(filename):\n",
    "    try:\n",
    "        code = int(input(\"Enter the player code:\"))\n",
    "        name = input(\"Enter the player name:\")\n",
    "        country = input(\"Enter country:\")\n",
    "        totalRuns = float(input(\"Enter total runs scored:\"))\n",
    "        newPlayerRecord = [code, name, country, totalRuns]\n",
    "    except ValueError as e:\n",
    "        print(e)\n",
    "        return\n",
    "    except:\n",
    "        print(\"Invalid data entered\")\n",
    "        return    \n",
    "    createFile(filename, newPlayerRecord)\n",
    "\n",
    "def displayPlayersStartingWith(filename, startingChar):\n",
    "    try:\n",
    "        with open(filename, 'r+b') as f:\n",
    "            while True:\n",
    "                record = pickle.load(f)\n",
    "                code, name, country, totalRuns = record\n",
    "                if name[0] == startingChar:\n",
    "                    print(f\"{name} with code {code} plays for the {country} and have scored {totalRuns} total runs\")\n",
    "    except FileNotFoundError:\n",
    "        print(f\"Sorry file:{filename} not found!!\")\n",
    "    except EOFError:\n",
    "        #do nothing\n",
    "        pass\n",
    "    except:\n",
    "        print(\"Some exception happened\")\n",
    "\n",
    "    \n",
    "def countPlayersByCountry(filename, countryName):\n",
    "    count = 0\n",
    "    try:\n",
    "        with open(filename, 'r+b') as f:\n",
    "            while True:\n",
    "                record = pickle.load(f)\n",
    "                code, name, country, totalRuns = record\n",
    "                if countryName == country:\n",
    "                    count+=1\n",
    "    except FileNotFoundError:\n",
    "        print(f\"Sorry file:{filename} not found!!\")\n",
    "        return None\n",
    "    except EOFError:\n",
    "        #do nothing\n",
    "        pass\n",
    "    except:\n",
    "        print(\"Some exception happened\")\n",
    "        return None\n",
    "    return count\n",
    "\n",
    "while True:\n",
    "    userinput = input(\"Do you want to add Player records?\")\n",
    "    if userinput in (\"No\", \"NO\", \"no\", \"N\", \"n\"):\n",
    "        break\n",
    "    addNewPlayerRecord(\"players.dat\")\n",
    "    \n",
    "displayPlayersStartingWith(\"players.dat\", 'A')\n",
    "country = \"India\"\n",
    "count = countPlayersByCountry(\"players.dat\", country)\n",
    "print(f\"{count} players play for {country}\")"
   ]
  },
  {
   "cell_type": "code",
   "execution_count": 13,
   "metadata": {
    "ExecuteTime": {
     "end_time": "2021-05-29T10:46:59.140338Z",
     "start_time": "2021-05-29T10:46:59.135100Z"
    }
   },
   "outputs": [
    {
     "name": "stdout",
     "output_type": "stream",
     "text": [
      "Do you want to add game records?n\n",
      "Virat plays Cricket\n",
      "Michel Jordan plays Basket Ball\n",
      "Shaq o Neal plays Basket Ball\n",
      "Mary kom plays Boxing\n",
      "Michel Jordan plays Basket Ball\n",
      "Shaq o Neal plays Basket Ball\n"
     ]
    }
   ],
   "source": [
    "# Given a binary file game.dat, containing records of following list format: [game_name, participants]\n",
    "\n",
    "# Write a function in Python that would read contents from the file game.dat and \n",
    "# creates a file named basket.dat copying only those records from game.dat where the game name is \"Basket Ball\"\n",
    "\n",
    "import pickle\n",
    "\n",
    "def createFile(filename, record):\n",
    "    try:\n",
    "        with open(filename, 'a+b') as f:\n",
    "            pickle.dump(record, f)\n",
    "    except:\n",
    "        print(f\"Could not create the file:{filename}\")\n",
    "\n",
    "def addNewGameRecord(filename):\n",
    "    try:\n",
    "        game = input(\"Enter the game name:\")\n",
    "        participant = input(\"Enter the player name:\")\n",
    "        newGameRecord = [game, participant]\n",
    "    except ValueError as e:\n",
    "        print(e)\n",
    "        return\n",
    "    except:\n",
    "        print(\"Invalid data entered\")\n",
    "        return    \n",
    "    createFile(filename, newGameRecord)\n",
    "    \n",
    "def filterGame(gameFileName, newFilterFileName, gameNameToFilter):\n",
    "    try:\n",
    "        with open(gameFileName, \"r+b\") as gameFile:\n",
    "            open(newFilterFileName, 'w').close() #clear the contents of the file\n",
    "            while True:\n",
    "                record = pickle.load(gameFile)\n",
    "                game, participant = record\n",
    "                if game == gameNameToFilter:\n",
    "                    createFile(newFilterFileName, record)\n",
    "    except FileNotFoundError:\n",
    "        print(f\"Sorry file:{filename} not found!!\")\n",
    "    except EOFError:\n",
    "        #do nothing\n",
    "        pass\n",
    "    except:\n",
    "        print(\"Some exception happened\")\n",
    "\n",
    "def display(fileName):\n",
    "    try:\n",
    "        with open(fileName, \"r+b\") as gameFile:\n",
    "            while True:\n",
    "                record = pickle.load(gameFile)\n",
    "                game, participant = record\n",
    "                print(f'{participant} plays {game}')\n",
    "    except FileNotFoundError:\n",
    "        print(f\"Sorry file:{filename} not found!!\")\n",
    "    except EOFError:\n",
    "        #do nothing\n",
    "        pass\n",
    "    except:\n",
    "        print(\"Some exception happened\")\n",
    "\n",
    "        \n",
    "        \n",
    "while True:\n",
    "    userinput = input(\"Do you want to add game records?\")\n",
    "    if userinput in (\"No\", \"NO\", \"no\", \"N\", \"n\"):\n",
    "        break\n",
    "    addNewGameRecord(\"game.dat\")\n",
    "\n",
    "filterGame(\"game.dat\", \"basket.dat\", \"Basket Ball\")\n",
    "# display(\"game.dat\")\n",
    "display(\"basket.dat\")"
   ]
  }
 ],
 "metadata": {
  "kernelspec": {
   "display_name": "Python 3 (ipykernel)",
   "language": "python",
   "name": "python3"
  },
  "language_info": {
   "codemirror_mode": {
    "name": "ipython",
    "version": 3
   },
   "file_extension": ".py",
   "mimetype": "text/x-python",
   "name": "python",
   "nbconvert_exporter": "python",
   "pygments_lexer": "ipython3",
   "version": "3.9.7"
  }
 },
 "nbformat": 4,
 "nbformat_minor": 2
}
