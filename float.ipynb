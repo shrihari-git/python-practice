{
 "cells": [
  {
   "cell_type": "code",
   "execution_count": 1,
   "id": "36b25f7d",
   "metadata": {},
   "outputs": [
    {
     "name": "stdout",
     "output_type": "stream",
     "text": [
      "<class 'float'> 2373468255600\n"
     ]
    }
   ],
   "source": [
    "# Declare an float value and store it in a variable.\n",
    "# Check the type and print the id of the same.\n",
    "a = 10.2\n",
    "print(type(a), id(a))"
   ]
  },
  {
   "cell_type": "code",
   "execution_count": 2,
   "id": "ee9d9a93",
   "metadata": {},
   "outputs": [
    {
     "name": "stdout",
     "output_type": "stream",
     "text": [
      "Operations on nums 10.5 and 3.7\n",
      "Sum: 14.2\n",
      "Difference: 6.8\n",
      "Product: 38.85\n",
      "Divison: 2.8378378378378377\n",
      "Remainder: 3.0999999999999996\n",
      "Quotient: 2.0\n",
      "Power: 6003.443207363319\n"
     ]
    }
   ],
   "source": [
    "# Arithmetic Operations on floats\n",
    "# Take two different float values.\n",
    "# Store them in two different variables.\n",
    "# Do below operations on them:-\n",
    "# Find sum of both numbers\n",
    "# Find difference between them\n",
    "# Find the product of both numbers.\n",
    "# Find value after dividing first num with second number\n",
    "# Find the remainder after dividing first number with second number\n",
    "# Find the quotient after dividing first number with second number\n",
    "# Find the result of the first num to the power of the second number.\n",
    "\n",
    "a = 10.5 #float(input(\"Num1:\"))\n",
    "b = 3.7 #float(input(\"Num2:\"))\n",
    "sum = a+b\n",
    "diff = a-b\n",
    "prod = a*b\n",
    "div = a/b\n",
    "rem = a%b\n",
    "quotient = a//b\n",
    "power = a**b\n",
    "\n",
    "print(f'Operations on nums {a} and {b}')\n",
    "print(f'Sum: {sum}')\n",
    "print(f'Difference: {diff}')\n",
    "print(f'Product: {prod}')\n",
    "print(f'Divison: {div}')\n",
    "print(f'Remainder: {rem}')\n",
    "print(f'Quotient: {quotient}')\n",
    "print(f'Power: {power}')"
   ]
  },
  {
   "cell_type": "code",
   "execution_count": 3,
   "id": "aa0ff57f",
   "metadata": {},
   "outputs": [
    {
     "name": "stdout",
     "output_type": "stream",
     "text": [
      "False\n",
      "True\n",
      "False\n",
      "True\n"
     ]
    }
   ],
   "source": [
    "# Comparison Operators on floats\n",
    "# Take two different float values.\n",
    "# Store them in two different variables.\n",
    "# Do below operations on them:-\n",
    "# Compare these two numbers with below operator:-\n",
    "# Greater than, '>'\n",
    "# Smaller than, '<'\n",
    "# Greater than or equal to, '>='\n",
    "# Less than or equal to, '<='\n",
    "# Observe their output(return type should be boolean)\n",
    "\n",
    "a = 10.7 #float(input(\"Num1:\"))\n",
    "b = 20.2 #float(input(\"Num2:\"))\n",
    "\n",
    "print(a > b)\n",
    "print(a < b)\n",
    "print(a >= b)\n",
    "print(a <= b)"
   ]
  },
  {
   "cell_type": "code",
   "execution_count": 4,
   "id": "affcc847",
   "metadata": {},
   "outputs": [
    {
     "name": "stdout",
     "output_type": "stream",
     "text": [
      "False\n",
      "True\n"
     ]
    }
   ],
   "source": [
    "# Equality Operator\n",
    "# Take two different float values.\n",
    "# Store them in two different variables.\n",
    "# Equate them using equality operators (==, !=)\n",
    "# Observe the output(return type should be boolean)\n",
    "\n",
    "a = 10.8 #float(input(\"Num1:\"))\n",
    "b = 20.3 #float(input(\"Num2:\"))\n",
    "\n",
    "print(a == b)\n",
    "print(a != b)"
   ]
  },
  {
   "cell_type": "code",
   "execution_count": 5,
   "id": "f5d62cb4",
   "metadata": {},
   "outputs": [
    {
     "name": "stdout",
     "output_type": "stream",
     "text": [
      "20.3\n",
      "0.0\n",
      "0.0\n",
      "0.0\n",
      "10.2\n",
      "20.3\n",
      "20.3\n",
      "0.0\n",
      "False\n",
      "True\n"
     ]
    }
   ],
   "source": [
    "# Logical operators\n",
    "# Observe the output of below code\n",
    "\n",
    "# Cross check the output manually\n",
    "print(10.20 and 20.30) \n",
    "#both are true and second value taken->Output is 20.3\n",
    "\n",
    "print(0.0 and 20.30) \n",
    "#First is false so first value taken->Output is 0.0\n",
    "\n",
    "print(20.30 and 0.0) \n",
    "#Goes to till second and second value is false so second is taken>Output is 0.0\n",
    "\n",
    "print(0.0 and 0.0) \n",
    "#First is false so first value is taken->Output is 0.0\n",
    "\n",
    "print(10.20 or 20.30) \n",
    "#First is True so first value is taken>Output is 10.2\n",
    "\n",
    "print(0.0 or 20.30) \n",
    "#Goes to till second and second is true second value is taken->Output is 20.3\n",
    "\n",
    "print(20.30 or 0.0) \n",
    "#First is True so first value is taken->Output is 20.3\n",
    "\n",
    "print(0.0 or 0.0) \n",
    "#Goes to till second and second is also false and second value is taken>Output is 0.0\n",
    "\n",
    "print(not 10.20) \n",
    "#-Not of true is false->Output is False\n",
    "\n",
    "print(not 0.0) \n",
    "#Not of false is True>Output is True"
   ]
  },
  {
   "cell_type": "code",
   "execution_count": 6,
   "id": "ac0b63d2",
   "metadata": {},
   "outputs": [
    {
     "name": "stdout",
     "output_type": "stream",
     "text": [
      "False\n",
      "True\n",
      "True\n"
     ]
    }
   ],
   "source": [
    "# What is the output of expression inside print statement. Cross check\n",
    "# before running the program.\n",
    "a = 10.20\n",
    "b = 10.20\n",
    "print(a is b) #True or False? True 10.20<256\n",
    "print(a is not b) #True or False? False\n",
    "# Why the Id of float values are different when the same value is\n",
    "# assigned to two different variables\n",
    "# ex: a = 10.5 b=10.5. but id will be same if I assign the variable\n",
    "# having float i.e. a=c then both a and c's Id are same\n",
    "\n",
    "c = a\n",
    "print(a is c)"
   ]
  },
  {
   "cell_type": "code",
   "execution_count": 7,
   "id": "f391e1b5",
   "metadata": {},
   "outputs": [
    {
     "name": "stdout",
     "output_type": "stream",
     "text": [
      "True\n",
      "True\n",
      "True\n",
      "True\n",
      "True\n",
      "True\n"
     ]
    }
   ],
   "source": [
    "# Membership operation\n",
    "# in, not in are two membership operators and it returns boolean value\n",
    "print('2.7' in 'Python2.7.8') #True\n",
    "print(10.20 in [10,10.20,10+20j,'Python']) #True\n",
    "print(10.20 in (10,10.20,10+20j,'Python')) # True\n",
    "print(20.30 in {1,20.30,30+40j}) # True\n",
    "print(2.3 in {1:100, 2.3:200, 30+40j:300}) # True\n",
    "print(10.0 in range(20)) # True"
   ]
  }
 ],
 "metadata": {
  "kernelspec": {
   "display_name": "Python 3 (ipykernel)",
   "language": "python",
   "name": "python3"
  },
  "language_info": {
   "codemirror_mode": {
    "name": "ipython",
    "version": 3
   },
   "file_extension": ".py",
   "mimetype": "text/x-python",
   "name": "python",
   "nbconvert_exporter": "python",
   "pygments_lexer": "ipython3",
   "version": "3.9.7"
  }
 },
 "nbformat": 4,
 "nbformat_minor": 5
}
