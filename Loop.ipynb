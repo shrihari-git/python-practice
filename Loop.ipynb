{
 "cells": [
  {
   "cell_type": "code",
   "execution_count": 1,
   "id": "2c8aaa96",
   "metadata": {},
   "outputs": [
    {
     "name": "stdout",
     "output_type": "stream",
     "text": [
      "1\n",
      "one\n",
      "2\n",
      "two\n",
      "3\n",
      "three\n",
      "4\n",
      "four\n",
      "5\n",
      "five\n",
      "6\n",
      "six\n",
      "7\n",
      "seven\n",
      "8\n",
      "eight\n",
      "9\n",
      "nine\n",
      "10\n",
      "number is outside of the range\n"
     ]
    }
   ],
   "source": [
    "# W. A P. which takes one number from 0 to 9 from the user and prints\n",
    "# it in the word. And if the word is not from 0 to 9 then\n",
    "# it should print that number is outside of the range and program should\n",
    "# exit.\n",
    "# For exapmple:-\n",
    "# input = 1\n",
    "# output = one\n",
    "while True:\n",
    "    val = int(input(\"\"))\n",
    "    if val == 1:\n",
    "        print(\"one\")\n",
    "    elif val == 2:\n",
    "        print(\"two\")\n",
    "    elif val == 3:\n",
    "        print(\"three\")\n",
    "    elif val == 4:\n",
    "        print(\"four\")\n",
    "    elif val == 5:\n",
    "        print(\"five\")\n",
    "    elif val == 6:\n",
    "        print(\"six\")\n",
    "    elif val == 7:\n",
    "        print(\"seven\")\n",
    "    elif val == 8:\n",
    "        print(\"eight\")\n",
    "    elif val == 9:\n",
    "        print(\"nine\")\n",
    "    else:\n",
    "        print(\"number is outside of the range\")\n",
    "        break"
   ]
  },
  {
   "cell_type": "code",
   "execution_count": 2,
   "id": "78dfefaf",
   "metadata": {},
   "outputs": [
    {
     "name": "stdout",
     "output_type": "stream",
     "text": [
      "Enter first number:10\n",
      "Enter second number:3\n",
      "Please select any one operation from below:-\n",
      "#  * To add enter 1\n",
      "#  * to subtract enter 2\n",
      "#  * To multiply enter 3\n",
      "#  * To divide enter 4\n",
      "#  * To divide and find quotient enter 5\n",
      "#  * To divide and find remainder enter 6\n",
      "#  * To divide and find num1 to the power of num2 enter 7\n",
      "#  * To Come out of the program enter 8\n",
      "1\n",
      "13\n",
      "2\n",
      "7\n",
      "3\n",
      "30\n",
      "5\n",
      "3\n",
      "4\n",
      "3.3333333333333335\n",
      "6\n",
      "1\n",
      "7\n",
      "1000\n",
      "8\n"
     ]
    }
   ],
   "source": [
    "# W. A P. to implement calculator but the operation to be done and two\n",
    "# numbers will be taken as input from user:-\n",
    "# Operation console should show below:-\n",
    "#  Please select any one operation from below:-\n",
    "#  * To add enter 1\n",
    "#  * to subtract enter 2\n",
    "#  * To multiply enter 3\n",
    "#  * To divide enter 4\n",
    "#  * To divide and find quotient enter 5\n",
    "#  * To divide and find remainder enter 6\n",
    "#  * To divide and find num1 to the power of num2 enter 7\n",
    "#  * To Come out of the program enter 8\n",
    "\n",
    "num1 = int(input(\"Enter first number:\"))\n",
    "num2 = int(input(\"Enter second number:\"))\n",
    "print('''Please select any one operation from below:-\n",
    "#  * To add enter 1\n",
    "#  * to subtract enter 2\n",
    "#  * To multiply enter 3\n",
    "#  * To divide enter 4\n",
    "#  * To divide and find quotient enter 5\n",
    "#  * To divide and find remainder enter 6\n",
    "#  * To divide and find num1 to the power of num2 enter 7\n",
    "#  * To Come out of the program enter 8''')\n",
    "while True:\n",
    "    op = int(input(\"\"))\n",
    "    if op == 1:\n",
    "        print(num1 + num2)\n",
    "    elif op == 2:\n",
    "        print(num1 - num2)\n",
    "    elif op == 3:\n",
    "        print(num1 * num2)\n",
    "    elif op == 4:\n",
    "        print(num1 / num2)\n",
    "    elif op == 5:\n",
    "        print(num1//num2)\n",
    "    elif op == 6:\n",
    "        print(num1%num2)\n",
    "    elif op == 7:\n",
    "        print(num1 ** num2)\n",
    "    elif op == 8:\n",
    "        break"
   ]
  },
  {
   "cell_type": "code",
   "execution_count": 3,
   "id": "3d14da58",
   "metadata": {},
   "outputs": [
    {
     "name": "stdout",
     "output_type": "stream",
     "text": [
      "Enter 0 to exit\n",
      "Year:2012\n",
      "2012 is a leap year\n",
      "Year:1968\n",
      "1968 is a leap year\n",
      "Year:2004\n",
      "2004 is a leap year\n",
      "Year:1200\n",
      "1200 is a leap year\n",
      "Year:1600\n",
      "1600 is a leap year\n",
      "Year:2400\n",
      "2400 is a leap year\n",
      "Year:1971\n",
      "1971 is not a leap year\n",
      "Year:2006\n",
      "2006 is not a leap year\n",
      "Year:1700\n",
      "1700 is not a leap year\n",
      "Year:1800\n",
      "1800 is not a leap year\n",
      "Year:1900\n",
      "1900 is not a leap year\n",
      "Year:0\n",
      "Exiting\n"
     ]
    }
   ],
   "source": [
    "# W A P to check whether a year entered by user is an leap year or not?\n",
    "# Check with below input:-\n",
    "#  leap year:- 2012, 1968, 2004, 1200, 1600,2400\n",
    "#  Non-lear year:- 1971, 2006, 1700,1800,1900\n",
    "\n",
    "print(\"Enter 0 to exit\")\n",
    "while True:\n",
    "    year = int(input(\"Year:\"))\n",
    "    if year == 0:\n",
    "        print(\"Exiting\")\n",
    "        break\n",
    "    \n",
    "    if year%400 == 0:\n",
    "        print(f'{year} is a leap year')\n",
    "    elif year%100 == 0:\n",
    "        print(f'{year} is not a leap year')\n",
    "    elif year%4==0:\n",
    "        print(f'{year} is a leap year')\n",
    "    else:\n",
    "        print(f'{year} is not a leap year')"
   ]
  },
  {
   "cell_type": "code",
   "execution_count": 5,
   "id": "ccc19ce3",
   "metadata": {},
   "outputs": [
    {
     "name": "stdout",
     "output_type": "stream",
     "text": [
      "Enter number:7\n",
      "7 is odd\n"
     ]
    }
   ],
   "source": [
    "# W A P which takes one number from the user and checks whether it is\n",
    "# an even or odd number?, If it even then prints number is\n",
    "# even number else prints that number is odd number.\n",
    "\n",
    "num = int(input(\"Enter number:\"))\n",
    "if num%2 == 0:\n",
    "    print(f'{num} is even')\n",
    "else:\n",
    "    print(f'{num} is odd')"
   ]
  },
  {
   "cell_type": "code",
   "execution_count": 7,
   "id": "79889bfc",
   "metadata": {},
   "outputs": [
    {
     "name": "stdout",
     "output_type": "stream",
     "text": [
      "Enter number1:10\n",
      "Enter number2:10\n",
      "10 and 10 are equal\n",
      "10 and 10 are equal\n"
     ]
    }
   ],
   "source": [
    "# W A P which takes two numbers from the user and prints below output:-\n",
    "#  1. num1 is greater than num2 if num1 is greater than num2\n",
    "#  2. num1 is smaller than num2 if num1 is smaller than num2\n",
    "#  3. num1 is equal to num2 if num1 and num2 are equal\n",
    "# Note:- 1. Do this problem using if - else\n",
    "#  2. Do this using ternary operator\n",
    "\n",
    "num1 = int(input(\"Enter number1:\"))\n",
    "num2 = int(input(\"Enter number2:\"))\n",
    "\n",
    "#method1\n",
    "if num1>num2:\n",
    "    print(f'{num1} is greater than {num2}')\n",
    "elif num1<num2:\n",
    "    print(f'{num1} is smaller than {num2}')\n",
    "else:\n",
    "    print(f'{num1} and {num2} are equal')\n",
    "\n",
    "#method2\n",
    "print(f'{num1} is greater than {num2}') \\\n",
    "        if num1>num2 \\\n",
    "        else \\\n",
    "            print(f'{num1} is smaller than {num2}') \\\n",
    "            if num1 < num2 else print(f'{num1} and {num2} are equal')"
   ]
  },
  {
   "cell_type": "code",
   "execution_count": 9,
   "id": "8e5ec25f",
   "metadata": {},
   "outputs": [
    {
     "name": "stdout",
     "output_type": "stream",
     "text": [
      "Enter number1:4\n",
      "Enter number2:1\n",
      "Enter number3:9\n",
      "Num3 is greater\n",
      "Num3 is greater\n",
      "Num3 is greater\n"
     ]
    }
   ],
   "source": [
    "# W A P which takes three numbers from the user and prints below\n",
    "# output:-\n",
    "#  1. num1 is greater than num2 and num3 if num1 is greater than num2\n",
    "# and num3\n",
    "#  2. num2 is greater than num1 and num3 if num2 is greater than num1\n",
    "# and num3\n",
    "#  3. num3 is greater than num1 and num2 if num3 is greater than num1\n",
    "# and num2\n",
    "# Note:- 1. Do this problem using if - elif - else\n",
    "#  2. Do this using ternary operator\n",
    "# a = a if a>b else b\n",
    "\n",
    "\n",
    "\n",
    "num1 = int(input(\"Enter number1:\"))\n",
    "num2 = int(input(\"Enter number2:\"))\n",
    "num3 = int(input(\"Enter number3:\"))\n",
    "#two or more numbers being equal and greater is not handled\n",
    "\n",
    "#method1\n",
    "while True:\n",
    "    if num1 > num2:\n",
    "        if num1 > num3:\n",
    "            print(\"Num1 is greater\")\n",
    "            break\n",
    "    else:\n",
    "        if num2 > num3:\n",
    "            print(\"Num2 is greater\")\n",
    "            break\n",
    "        \n",
    "    print(\"Num3 is greater\")\n",
    "    break\n",
    "\n",
    "#method2\n",
    "if num1 > num2 and num1 > num3:\n",
    "    print(\"Num1 is greater\")\n",
    "elif num2 > num1 and num2 > num3:\n",
    "    print(\"Num2 is greater\")\n",
    "else:\n",
    "    print(\"Num3 is greater\")\n",
    "    \n",
    "#method3\n",
    "print(\"Num1 is greater\") if num1 > num2 and num1 > num3 \\\n",
    "                         else \\\n",
    "                         print(\"Num2 is greater\") if num2 > num1 and num2 > num3 \\\n",
    "                         else print(\"Num3 is greater\")\n",
    "                                                    "
   ]
  },
  {
   "cell_type": "code",
   "execution_count": 10,
   "id": "1ea3fe14",
   "metadata": {},
   "outputs": [
    {
     "name": "stdout",
     "output_type": "stream",
     "text": [
      "55\n"
     ]
    }
   ],
   "source": [
    "#  Write a Python program to find the length of the my_str using loop:-\n",
    "# Input:- 'Write a Python program to find the length of the my_str'\n",
    "# Output:- 55\n",
    "\n",
    "my_str = 'Write a Python program to find the length of the my_str'\n",
    "length = 0\n",
    "for c in my_str:\n",
    "    length+=1\n",
    "print(length)"
   ]
  },
  {
   "cell_type": "code",
   "execution_count": 11,
   "id": "335a70db",
   "metadata": {},
   "outputs": [
    {
     "name": "stdout",
     "output_type": "stream",
     "text": [
      "9\n"
     ]
    }
   ],
   "source": [
    "# Write a Python program to find the total number of times letter 'p'\n",
    "# is appeared in the below string using loop:-\n",
    "# Input:- 'peter piper picked a peck of pickled peppers.\\n'\n",
    "# Output:- 9\n",
    "\n",
    "my_str = 'peter piper picked a peck of pickled peppers.\\n'\n",
    "count_p = 0\n",
    "for c in my_str:\n",
    "    if c == 'p':\n",
    "        count_p+=1\n",
    "print(count_p)"
   ]
  },
  {
   "cell_type": "code",
   "execution_count": 12,
   "id": "db993756",
   "metadata": {},
   "outputs": [
    {
     "name": "stdout",
     "output_type": "stream",
     "text": [
      "0\n",
      "6\n",
      "8\n",
      "12\n",
      "21\n",
      "29\n",
      "37\n",
      "39\n",
      "40\n"
     ]
    }
   ],
   "source": [
    "# Write a Python Program, to print all the indexes of all occurences of\n",
    "# letter 'p' appeared in the string using loop:-\n",
    "# Input:- 'peter piper picked a peck of pickled peppers.'\n",
    "# Output:-\n",
    "# 0\n",
    "# 6\n",
    "# 8\n",
    "# 12\n",
    "# 21\n",
    "# 29\n",
    "# 37\n",
    "# 39\n",
    "# 40\n",
    "\n",
    "my_str = 'peter piper picked a peck of pickled peppers.'\n",
    "for i in range(len(my_str)):\n",
    "    if my_str[i] == 'p':\n",
    "        print(i)\n"
   ]
  },
  {
   "cell_type": "code",
   "execution_count": 13,
   "id": "c009ce0a",
   "metadata": {},
   "outputs": [
    {
     "name": "stdout",
     "output_type": "stream",
     "text": [
      "['peter', 'piper', 'picked', 'a', 'peck', 'of', 'pickled', 'peppers.']\n"
     ]
    }
   ],
   "source": [
    "# Write a python program to find below output using loop:-\n",
    "# Input:- 'peter piper picked a peck of pickled peppers.'\n",
    "# Output:- ['peter', 'piper', 'picked', 'a', 'peck', 'of', 'pickled',\n",
    "# 'peppers']\n",
    "\n",
    "my_str = 'peter piper picked a peck of pickled peppers.'\n",
    "output = []\n",
    "word = ''\n",
    "for c in my_str:\n",
    "    if c != ' ':\n",
    "        word += c\n",
    "    else:\n",
    "        output.append(word)\n",
    "        word = ''\n",
    "\n",
    "if word != '':\n",
    "    output.append(word)\n",
    "\n",
    "print(output)"
   ]
  },
  {
   "cell_type": "code",
   "execution_count": 14,
   "id": "4f27e394",
   "metadata": {},
   "outputs": [
    {
     "name": "stdout",
     "output_type": "stream",
     "text": [
      "peppers pickled of peck a picked piper peter \n"
     ]
    }
   ],
   "source": [
    "# Write a python program to find below output using loop:-\n",
    "# Input:- 'peter piper picked a peck of pickled peppers.'\n",
    "# Output:- 'peppers pickled of peck a picked piper peter'\n",
    "\n",
    "my_str = 'peter piper picked a peck of pickled peppers'\n",
    "output = ''\n",
    "word = ''\n",
    "for c in my_str:\n",
    "    if c != ' ':\n",
    "        word += c\n",
    "    else:\n",
    "        output = word + ' ' + output\n",
    "        word = ''\n",
    "\n",
    "if word != '':\n",
    "    output = word + ' ' + output\n",
    "\n",
    "print(output)\n"
   ]
  },
  {
   "cell_type": "code",
   "execution_count": 15,
   "id": "db0a7d2e",
   "metadata": {},
   "outputs": [
    {
     "name": "stdout",
     "output_type": "stream",
     "text": [
      ".sreppep delkcip fo kcep a dekcip repip retep \n"
     ]
    }
   ],
   "source": [
    "# Write a python program to find below output using loop:-\n",
    "# Input:- 'peter piper picked a peck of pickled peppers.'\n",
    "# Output:- '.sreppep delkcip fo kcep a dekcip repip retep'\n",
    "\n",
    "my_str = 'peter piper picked a peck of pickled peppers.'\n",
    "output = ''\n",
    "word = ''\n",
    "for c in my_str:\n",
    "    if c != ' ':\n",
    "        word = c + word\n",
    "    else:\n",
    "        output = word + ' ' + output\n",
    "        word = ''\n",
    "\n",
    "if word != '':\n",
    "    output = word + ' ' + output\n",
    "\n",
    "print(output)"
   ]
  },
  {
   "cell_type": "code",
   "execution_count": 16,
   "id": "60e175c9",
   "metadata": {},
   "outputs": [
    {
     "name": "stdout",
     "output_type": "stream",
     "text": [
      " retep repip dekcip a kcep fo delkcip sreppep\n"
     ]
    }
   ],
   "source": [
    "# Write a python program to find below output using loop:-\n",
    "# Input:- 'peter piper picked a peck of pickled peppers.'\n",
    "# Output:- 'retep repip dekcip a kcep fo delkcip sreppep'\n",
    "\n",
    "\n",
    "my_str = 'peter piper picked a peck of pickled peppers'\n",
    "output = ''\n",
    "word = ''\n",
    "for c in my_str:\n",
    "    if c != ' ':\n",
    "        word = c + word\n",
    "    else:\n",
    "        output = output + ' ' + word \n",
    "        word = ''\n",
    "\n",
    "if word != '':\n",
    "    output = output + ' ' + word\n",
    "\n",
    "print(output)"
   ]
  },
  {
   "cell_type": "code",
   "execution_count": 17,
   "id": "eb82158d",
   "metadata": {},
   "outputs": [
    {
     "name": "stdout",
     "output_type": "stream",
     "text": [
      " Peter Piper Picked A Peck Of Pickled Peppers\n"
     ]
    }
   ],
   "source": [
    "# Write a python program to find below output using loop:-\n",
    "# Input:- 'peter piper picked a peck of pickled peppers'\n",
    "# Output:- 'Peter Piper Picked A Peck Of Pickled Peppers'\n",
    "\n",
    "my_str = 'peter piper picked a peck of pickled peppers'\n",
    "output = ''\n",
    "word = ''\n",
    "\n",
    "for c in my_str:\n",
    "    if c != ' ':\n",
    "        if word == '':\n",
    "            word += c.upper()\n",
    "        else:\n",
    "            word += c\n",
    "    else:\n",
    "        output = output + ' ' + word \n",
    "        word = ''\n",
    "\n",
    "if word != '':\n",
    "    output = output + ' ' + word\n",
    "\n",
    "print(output)"
   ]
  },
  {
   "cell_type": "code",
   "execution_count": 18,
   "id": "ee5dd97f",
   "metadata": {},
   "outputs": [
    {
     "name": "stdout",
     "output_type": "stream",
     "text": [
      " Peter piper picked a peck of pickled peppers.\n"
     ]
    }
   ],
   "source": [
    "# . Write a python program to find below output using loop:-\n",
    "# Input:- 'Peter Piper Picked A Peck Of Pickled Peppers.'\n",
    "# Output:- 'Peter piper picked a peck of pickled peppers'\n",
    "\n",
    "my_str = 'Peter Piper Picked A Peck Of Pickled Peppers.'\n",
    "output = ''\n",
    "word = ''\n",
    "start_flag = True\n",
    "for c in my_str:\n",
    "    if c != ' ':\n",
    "        if start_flag and word == '':\n",
    "            start_flag = False\n",
    "            word += c\n",
    "        else:\n",
    "            word += c.lower()\n",
    "    else:\n",
    "        output = output + ' ' + word \n",
    "        word = ''\n",
    "\n",
    "if word != '':\n",
    "    output = output + ' ' + word\n",
    "\n",
    "print(output)"
   ]
  },
  {
   "cell_type": "code",
   "execution_count": 19,
   "id": "20b033c7",
   "metadata": {},
   "outputs": [
    {
     "name": "stdout",
     "output_type": "stream",
     "text": [
      "29\n"
     ]
    }
   ],
   "source": [
    "# . Write a python program to implement index method using loop. If\n",
    "# sub_str is found in my_str then it will print the index\n",
    "# of first occurrence of first character of matching string in my_str:-\n",
    "# Input:- my_str = 'Peter Piper Picked A Peck Of Pickled Peppers.',\n",
    "# sub_str = 'Pickl'\n",
    "# Output:- 29\n",
    "\n",
    "my_str = 'Peter Piper Picked A Peck Of Pickled Peppers.'\n",
    "sub_str = 'Pickl'\n",
    "index = -1\n",
    "for i in range(len(my_str)):\n",
    "    for c in sub_str:\n",
    "        if my_str[i] == c:\n",
    "                if my_str[i:i+len(sub_str)] == sub_str:\n",
    "                    index = i\n",
    "                    break\n",
    "    if index != -1:\n",
    "        break\n",
    "                \n",
    "\n",
    "print(index)\n",
    "\n"
   ]
  },
  {
   "cell_type": "code",
   "execution_count": 20,
   "id": "0c524a19",
   "metadata": {},
   "outputs": [
    {
     "name": "stdout",
     "output_type": "stream",
     "text": [
      "Peter Piper Picked A Pack Of Pickled Peppers.\n"
     ]
    }
   ],
   "source": [
    "# Write a python program to implement replace method using loop. If\n",
    "# sub_str is found in my_str then it will replace the first\n",
    "# occurrence of sub_str with new_str else it will will print sub_str not\n",
    "# found:-\n",
    "# Input:- my_str = 'Peter Piper Picked A Peck Of Pickled Peppers.',\n",
    "# sub_str = 'Peck', new_str = 'Pack'\n",
    "# Output:- 'Peter Piper Picked A Pack Of Pickled Peppers.'\n",
    "\n",
    "my_str = 'Peter Piper Picked A Peck Of Pickled Peppers.'\n",
    "sub_str = 'Peck'\n",
    "new_str = 'Pack'\n",
    "output = ''\n",
    "index = -1\n",
    "for i in range(len(my_str)):\n",
    "    for c in sub_str:\n",
    "        if my_str[i] == c:\n",
    "                if my_str[i:i+len(sub_str)] == sub_str:\n",
    "                    index = i\n",
    "                    break\n",
    "    if index != -1:\n",
    "        break\n",
    "                \n",
    "\n",
    "if index == -1:\n",
    "    print(f'sub_str: {sub_str} not found')\n",
    "else:\n",
    "    for i in range(index):\n",
    "        output += my_str[i]\n",
    "    \n",
    "    for c in new_str:\n",
    "        output += c\n",
    "    \n",
    "    for i in range((index+len(sub_str)),len(my_str)):\n",
    "        output += my_str[i]\n",
    "    \n",
    "    print(output)\n"
   ]
  },
  {
   "cell_type": "code",
   "execution_count": 21,
   "id": "60e61175",
   "metadata": {},
   "outputs": [
    {
     "name": "stdout",
     "output_type": "stream",
     "text": [
      "*********************Peck********************\n"
     ]
    }
   ],
   "source": [
    "# Write a python program to find below output (implements rjust and\n",
    "# ljust) using loop:-\n",
    "# Input:- 'Peter Piper Picked A Peck Of Pickled Peppers.', sub_str =\n",
    "# 'Peck',\n",
    "# Output:- '*********************Peck********************'\n",
    "my_str = 'Peter Piper Picked A Peck Of Pickled Peppers.'\n",
    "sub_str = 'Peck'\n",
    "output = ''\n",
    "index = -1\n",
    "for i in range(len(my_str)):\n",
    "    for c in sub_str:\n",
    "        if my_str[i] == c:\n",
    "                if my_str[i:i+len(sub_str)] == sub_str:\n",
    "                    index = i\n",
    "                    break\n",
    "    if index != -1:\n",
    "        break\n",
    "                \n",
    "\n",
    "if index == -1:\n",
    "    print(f'sub_str: {sub_str} not found')\n",
    "else:\n",
    "    ljustSize = (index)\n",
    "    output = '*' * ljustSize\n",
    "    \n",
    "    output += sub_str\n",
    "    \n",
    "    rjustSize = len(my_str) - (index+len(sub_str))\n",
    "    output += '*' * rjustSize\n",
    "    \n",
    "    print(output)\n"
   ]
  },
  {
   "cell_type": "code",
   "execution_count": 22,
   "id": "8b878649",
   "metadata": {},
   "outputs": [
    {
     "name": "stdout",
     "output_type": "stream",
     "text": [
      "['This ', 'is', ' Python class']\n",
      "['This ', 'is', ' Python class']\n"
     ]
    }
   ],
   "source": [
    "# Write a python program to find below output using loop:-\n",
    "# Input:- 'This is Python class', sep = ' is',\n",
    "# Output:- ['This', 'is', 'Python class']\n",
    "\n",
    "#method1\n",
    "my_str = 'This is Python class'\n",
    "sep = 'is'\n",
    "output = []\n",
    "word = ''\n",
    "temp = ''\n",
    "for c in my_str:\n",
    "    if c != ' ':\n",
    "        word += c\n",
    "    else:\n",
    "        if word != sep:\n",
    "            temp += word + c\n",
    "            word = ''\n",
    "        else:\n",
    "            output.append(temp)\n",
    "            output.append(word)\n",
    "            word = ''\n",
    "            temp = c\n",
    "\n",
    "temp += word\n",
    "if temp != '':\n",
    "    output.append(temp)\n",
    "\n",
    "print(output)\n",
    "\n",
    "#method2\n",
    "output2=[]\n",
    "word2 = ''\n",
    "index = -1\n",
    "for i in range(len(my_str)):\n",
    "    if my_str[i] != ' ':\n",
    "        word2 += my_str[i] \n",
    "    else:\n",
    "        if word2 == sep:\n",
    "            index = i - len(sep)\n",
    "            break\n",
    "        word2 = ''\n",
    "\n",
    "output2 = [my_str[:index],sep, my_str[index+len(sep):]]\n",
    "print(output2)\n",
    "        "
   ]
  }
 ],
 "metadata": {
  "kernelspec": {
   "display_name": "Python 3 (ipykernel)",
   "language": "python",
   "name": "python3"
  },
  "language_info": {
   "codemirror_mode": {
    "name": "ipython",
    "version": 3
   },
   "file_extension": ".py",
   "mimetype": "text/x-python",
   "name": "python",
   "nbconvert_exporter": "python",
   "pygments_lexer": "ipython3",
   "version": "3.9.7"
  }
 },
 "nbformat": 4,
 "nbformat_minor": 5
}
