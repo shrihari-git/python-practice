{
 "cells": [
  {
   "cell_type": "code",
   "execution_count": 1,
   "id": "36b25f7d",
   "metadata": {},
   "outputs": [
    {
     "name": "stdout",
     "output_type": "stream",
     "text": [
      "<class 'int'> 2261123689040\n"
     ]
    }
   ],
   "source": [
    "# Declare an int value and store it in a variable.\n",
    "# Check the type and print the id of the same.\n",
    "a = 10\n",
    "print(type(a), id(a))"
   ]
  },
  {
   "cell_type": "code",
   "execution_count": 2,
   "id": "fb870f50",
   "metadata": {},
   "outputs": [
    {
     "name": "stdout",
     "output_type": "stream",
     "text": [
      "2261123885264\n",
      "2261123885264\n"
     ]
    }
   ],
   "source": [
    "# Take one int value between 0 - 256.\n",
    "# Assign it to two different variables.\n",
    "# Check the id of both the variables. It should come the same. Check why?\n",
    "\n",
    "a = 250 #int(input(\"Num1 (range -5 to 256):\"))\n",
    "b = 250 #int(input(\"Num2 (range -5 to 256):\"))\n",
    "# same id used by both variables due to integer caching\n",
    "print(id(a))\n",
    "print(id(b))"
   ]
  },
  {
   "cell_type": "code",
   "execution_count": 3,
   "id": "0f617702",
   "metadata": {},
   "outputs": [
    {
     "name": "stdout",
     "output_type": "stream",
     "text": [
      "2261200570672\n",
      "2261200960400\n"
     ]
    }
   ],
   "source": [
    "# Take one int value either less than -5 or greater than 256.\n",
    "# Assign it to two different variables.\n",
    "# Check the id of both the variables. It should come different.Check why?\n",
    "\n",
    "a = -10 #int(input(\"Num1 (range outside -5 to 256):\"))\n",
    "b = -10 #int(input(\"Num2 (range outside -5 to 256):\"))\n",
    "print(id(a))\n",
    "print(id(b))"
   ]
  },
  {
   "cell_type": "code",
   "execution_count": 4,
   "id": "8aefa8e0",
   "metadata": {},
   "outputs": [
    {
     "name": "stdout",
     "output_type": "stream",
     "text": [
      "Operations on nums 10 and 3\n",
      "Sum: 13\n",
      "Difference: 7\n",
      "Product: 30\n",
      "Divison: 3.3333333333333335\n",
      "Remainder: 1\n",
      "Quotient: 3\n",
      "Power: 1000\n"
     ]
    }
   ],
   "source": [
    "# Arithmetic Operations on integers\n",
    "# Take two different integer values.\n",
    "# Store them in two different variables.\n",
    "# Do below operations on them:-\n",
    "# Find sum of both numbers\n",
    "# Find difference between them\n",
    "# Find the product of both numbers.\n",
    "# Find value after dividing first num with second number\n",
    "# Find the remainder after dividing first number with second number\n",
    "# Find the quotient after dividing first number with second number\n",
    "# Find the result of the first num to the power of the second number.\n",
    "\n",
    "a = 10 #int(input(\"Num1:\"))\n",
    "b = 3 #int(input(\"Num2:\"))\n",
    "sum = a+b\n",
    "diff = a-b\n",
    "prod = a*b\n",
    "div = a/b\n",
    "rem = a%b\n",
    "quotient = a//b\n",
    "power = a**b\n",
    "\n",
    "print(f'Operations on nums {a} and {b}')\n",
    "print(f'Sum: {sum}')\n",
    "print(f'Difference: {diff}')\n",
    "print(f'Product: {prod}')\n",
    "print(f'Divison: {div}')\n",
    "print(f'Remainder: {rem}')\n",
    "print(f'Quotient: {quotient}')\n",
    "print(f'Power: {power}')"
   ]
  },
  {
   "cell_type": "code",
   "execution_count": 5,
   "id": "a738d975",
   "metadata": {},
   "outputs": [
    {
     "name": "stdout",
     "output_type": "stream",
     "text": [
      "False\n",
      "True\n",
      "False\n",
      "True\n"
     ]
    }
   ],
   "source": [
    "# Comparison Operators on integers\n",
    "# Take two different integer values.\n",
    "# Store them in two different variables.\n",
    "# Do below operations on them:-\n",
    "# Compare se two numbers with below operator:-\n",
    "# Greater than, '>'\n",
    "# Smaller than, '<'\n",
    "# Greater than or equal to, '>='\n",
    "# Less than or equal to, '<='\n",
    "# Observe their output(return type should be boolean)\n",
    "\n",
    "a = 10 #int(input(\"Num1:\"))\n",
    "b = 20 #int(input(\"Num2:\"))\n",
    "\n",
    "print(a > b)\n",
    "print(a < b)\n",
    "print(a >= b)\n",
    "print(a <= b)"
   ]
  },
  {
   "cell_type": "code",
   "execution_count": 6,
   "id": "9a18b3ea",
   "metadata": {},
   "outputs": [
    {
     "name": "stdout",
     "output_type": "stream",
     "text": [
      "False\n",
      "True\n"
     ]
    }
   ],
   "source": [
    "# Equality Operator\n",
    "# Take two different integer values.\n",
    "# Store them in two different variables.\n",
    "# Equate them using equality operators (==, !=)\n",
    "# Observe the output(return type should be boolean)\n",
    "\n",
    "a = 10 #int(input(\"Num1:\"))\n",
    "b = 20 #int(input(\"Num2:\"))\n",
    "\n",
    "print(a == b)\n",
    "print(a != b)"
   ]
  },
  {
   "cell_type": "code",
   "execution_count": 7,
   "id": "32563d17",
   "metadata": {},
   "outputs": [
    {
     "name": "stdout",
     "output_type": "stream",
     "text": [
      "20\n",
      "0\n",
      "0\n",
      "0\n",
      "10\n",
      "20\n",
      "20\n",
      "0\n",
      "False\n",
      "True\n"
     ]
    }
   ],
   "source": [
    "# Logical operators\n",
    "# Observe the output of below code\n",
    "\n",
    "# Cross check the output manually\n",
    "print(10 and 20)\n",
    "#----------------------------------------->Output is 20\n",
    "print(0 and 20)\n",
    "#----------------------------------------->Output is 0\n",
    "print(20 and 0)\n",
    "#----------------------------------------->Output is 0\n",
    "print(0 and 0)\n",
    "#----------------------------------------->Output is 0\n",
    "print(10 or 20)\n",
    "#----------------------------------------->Output is 10\n",
    "print(0 or 20)\n",
    "#----------------------------------------->Output is 20\n",
    "print(20 or 0)\n",
    "#----------------------------------------->Output is 20\n",
    "print(0 or 0)\n",
    "#----------------------------------------->Output is 0\n",
    "print(not 10)\n",
    "#----------------------------------------->Output is False\n",
    "print(not 0)\n",
    "#----------------------------------------->Output is True"
   ]
  },
  {
   "cell_type": "code",
   "execution_count": 8,
   "id": "35a9456f",
   "metadata": {},
   "outputs": [
    {
     "name": "stdout",
     "output_type": "stream",
     "text": [
      "0\n",
      "30\n",
      "30\n",
      "-11\n",
      "40\n",
      "2\n"
     ]
    }
   ],
   "source": [
    "# Bitwise Operators\n",
    "# Do below operations on the values provided below:-\n",
    "\n",
    "# print(bin(10))\n",
    "# print(bin(20))\n",
    "\n",
    "# Bitwise and(&) -----------------------------------------> 10, 20\n",
    "# -------> Output is 0\n",
    "print(10 & 20)\n",
    "# 10: 0b01010\n",
    "# 20: 0b10100\n",
    "#-------------\n",
    "# &  0b00000\n",
    "# print(0b00000)\n",
    "\n",
    "# Bitwise or(|) -----------------------------------------> 10, 20\n",
    "# -------> Output is 30\n",
    "print(10 | 20)\n",
    "# 10: 0b01010\n",
    "# 20: 0b10100\n",
    "#-------------\n",
    "# |   0b11110\n",
    "# print(0b11110)\n",
    "\n",
    "# Bitwise(^) -----------------------------------------> 10, 20\n",
    "# -------> Output is 30\n",
    "print(10 ^ 20)\n",
    "# 10: 0b01010\n",
    "# 20: 0b10100\n",
    "#-------------\n",
    "# ^   0b11110\n",
    "# print(0b11110)\n",
    "\n",
    "# Bitwise negation(~) ------------------------------------> 10\n",
    "# -------> Output is -11\n",
    "print(~10)\n",
    "# print(-(10+1))\n",
    "\n",
    "# Bitwise left shift ------------------------------------> 10,2\n",
    "# -------> Output is 40\n",
    "print(10 << 2)\n",
    "# 10: 0b00001010\n",
    "#----------------\n",
    "# <<2 0b00101000\n",
    "# print(0b101000)\n",
    "\n",
    "# Bitwise right shift ------------------------------------> 10,2\n",
    "# -------> Output is 2\n",
    "print(10 >> 2)\n",
    "# 10: 0b00001010\n",
    "#----------------\n",
    "# >>2 0b00000010\n",
    "# print(0b101000)\n",
    "\n",
    "# Cross check the output manually"
   ]
  },
  {
   "cell_type": "code",
   "execution_count": 9,
   "id": "5f05c103",
   "metadata": {},
   "outputs": [
    {
     "name": "stdout",
     "output_type": "stream",
     "text": [
      "True\n",
      "False\n",
      "False\n",
      "True\n"
     ]
    }
   ],
   "source": [
    "# What is the output of expression inside print statement. Cross check\n",
    "# before running the program.\n",
    "\n",
    "a = 10\n",
    "b = 10\n",
    "print(a is b) #True or False?\n",
    "print(a is not b) #True or False?\n",
    "a = 1000\n",
    "b = 1000\n",
    "print(a is b) #True or False?\n",
    "print(a is not b) #True or False?\n",
    "\n",
    "#integer caching"
   ]
  },
  {
   "cell_type": "code",
   "execution_count": 10,
   "id": "e4fdd3de",
   "metadata": {},
   "outputs": [
    {
     "name": "stdout",
     "output_type": "stream",
     "text": [
      "20\n"
     ]
    }
   ],
   "source": [
    "# What is the output of expression inside print statement. Cross check\n",
    "# before running the program.\n",
    "print(10+(10*32)//2**5&20+(~(-10))<<2)\n",
    "# 10+(10*32)//2**5&20+(~(-10))<<2\n",
    "# 10+320//2**5&20+9<<2 paranthesis\n",
    "# 10+320//32&20+9<<2 exponent\n",
    "# 10+10&20+9<<2  floor div\n",
    "# 20&29<<2 addition\n",
    "# 0b11101<<2\n",
    "# 0b1110100\n",
    "# 20&116\n",
    "# 20\n",
    "\n"
   ]
  },
  {
   "cell_type": "code",
   "execution_count": 11,
   "id": "75fa5684",
   "metadata": {},
   "outputs": [
    {
     "name": "stdout",
     "output_type": "stream",
     "text": [
      "True\n",
      "True\n",
      "True\n",
      "True\n",
      "True\n",
      "True\n"
     ]
    }
   ],
   "source": [
    "# Membership operation\n",
    "# in, not in are two membership operators and it returns boolean value\n",
    "print('2' in 'Python2.7.8')\n",
    "print(10 in [10,10.20,10+20j,'Python'])\n",
    "print(10 in (10,10.20,10+20j,'Python'))\n",
    "print(2 in {1,2,3})\n",
    "print(3 in {1:100, 2:200, 3:300})\n",
    "print(10 in range(20))"
   ]
  },
  {
   "cell_type": "code",
   "execution_count": 12,
   "id": "5d98fb70",
   "metadata": {},
   "outputs": [
    {
     "name": "stdout",
     "output_type": "stream",
     "text": [
      "22\n",
      "43354\n",
      "326228\n",
      "0b10011010010100\n",
      "0o23224\n",
      "0x2694\n"
     ]
    }
   ],
   "source": [
    "# An integer can be represented in binary, octal or hexadecimal form.\n",
    "# Declare one binary, one octal and one hexadecimal value and store them\n",
    "# in three different variables.\n",
    "# Convert 9876 to its binary, octal and hexadecimal equivalent and print\n",
    "# their corresponding value.\n",
    "\n",
    "b = 0b10110\n",
    "o = 0o124532\n",
    "x = 0x4fa54\n",
    "\n",
    "print(b)\n",
    "print(o)\n",
    "print(x)\n",
    "\n",
    "i = 9876\n",
    "print(bin(i))\n",
    "print(oct(i))\n",
    "print(hex(i))"
   ]
  },
  {
   "cell_type": "code",
   "execution_count": 13,
   "id": "bb6eb2f5",
   "metadata": {},
   "outputs": [
    {
     "name": "stdout",
     "output_type": "stream",
     "text": [
      "80\n",
      "3870\n",
      "64222\n",
      "0b1010000\n",
      "0o7436\n",
      "0xfade\n",
      "0b1010000\n",
      "0b1111101011011110\n",
      "0o175336\n",
      "0o7436\n",
      "0x50\n",
      "0xfade\n"
     ]
    }
   ],
   "source": [
    "# What will be the output of following:-\n",
    "a = 0b1010000\n",
    "print(a)\n",
    "b = 0o7436\n",
    "print(b)\n",
    "c = 0xfade\n",
    "print(c)\n",
    "print(bin(80))\n",
    "\n",
    "print(oct(3870))\n",
    "print(hex(64222))\n",
    "print(bin(0b1010000))\n",
    "print(bin(0xfade))\n",
    "print(oct(0xfade))\n",
    "print(oct(0o7436))\n",
    "print(hex(0b1010000))\n",
    "print(hex(0xfade))"
   ]
  }
 ],
 "metadata": {
  "kernelspec": {
   "display_name": "Python 3 (ipykernel)",
   "language": "python",
   "name": "python3"
  },
  "language_info": {
   "codemirror_mode": {
    "name": "ipython",
    "version": 3
   },
   "file_extension": ".py",
   "mimetype": "text/x-python",
   "name": "python",
   "nbconvert_exporter": "python",
   "pygments_lexer": "ipython3",
   "version": "3.9.7"
  }
 },
 "nbformat": 4,
 "nbformat_minor": 5
}
