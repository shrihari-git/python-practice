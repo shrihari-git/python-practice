{
 "cells": [
  {
   "cell_type": "code",
   "execution_count": 1,
   "id": "36b25f7d",
   "metadata": {},
   "outputs": [
    {
     "name": "stdout",
     "output_type": "stream",
     "text": [
      "<class 'bool'> 140714946156648\n"
     ]
    }
   ],
   "source": [
    "# Declare a boolean value and store it in a variable.\n",
    "# Check the type and print the id of the same.\n",
    "a = True\n",
    "print(type(a), id(a))"
   ]
  },
  {
   "cell_type": "code",
   "execution_count": 2,
   "id": "fb870f50",
   "metadata": {},
   "outputs": [
    {
     "name": "stdout",
     "output_type": "stream",
     "text": [
      "140714946156648\n",
      "140714946156648\n"
     ]
    }
   ],
   "source": [
    "# Take one boolean value\n",
    "# Assign it to two different variables.\n",
    "# Check the id of both the variables. It should come the same. Check why?\n",
    "\n",
    "a = True #bool(input(\"Bool1:\"))\n",
    "b = True #bool(input(\"Bool2:\"))\n",
    "\n",
    "print(id(a))\n",
    "print(id(b))"
   ]
  },
  {
   "cell_type": "code",
   "execution_count": 3,
   "id": "33ad4d5a",
   "metadata": {},
   "outputs": [
    {
     "name": "stdout",
     "output_type": "stream",
     "text": [
      "Operations on bools True and True\n",
      "Sum: 2\n",
      "Difference: 0\n",
      "Product: 1\n",
      "Divison: 1.0\n",
      "Remainder: 0\n",
      "Quotient: 1\n",
      "Power: 1\n"
     ]
    }
   ],
   "source": [
    "# Arithmetic Operations on booleans\n",
    "# Take two different boolean values.\n",
    "# Store them in two different variables.\n",
    "# Do below operations on them:-\n",
    "# Find sum of both numbers\n",
    "# Find difference between them\n",
    "# Find the product of both numbers.\n",
    "# Find value after dividing first num with second number\n",
    "# Find the remainder after dividing first number with second number\n",
    "# Find the quotient after dividing first number with second number\n",
    "# Find the result of the first num to the power of the second number.\n",
    "\n",
    "a = True\n",
    "b = True\n",
    "sum = a+b\n",
    "diff = a-b\n",
    "prod = a*b\n",
    "div = a/b\n",
    "rem = a%b\n",
    "quotient = a//b\n",
    "power = a**b\n",
    "\n",
    "print(f'Operations on bools {a} and {b}')\n",
    "print(f'Sum: {sum}')\n",
    "print(f'Difference: {diff}')\n",
    "print(f'Product: {prod}')\n",
    "print(f'Divison: {div}')\n",
    "print(f'Remainder: {rem}')\n",
    "print(f'Quotient: {quotient}')\n",
    "print(f'Power: {power}')"
   ]
  },
  {
   "cell_type": "code",
   "execution_count": 4,
   "id": "3cc48591",
   "metadata": {},
   "outputs": [
    {
     "name": "stdout",
     "output_type": "stream",
     "text": [
      "True\n",
      "False\n",
      "True\n",
      "False\n"
     ]
    }
   ],
   "source": [
    "# Comparison Operators on booleans\n",
    "# Take two different boolean values.\n",
    "# Store them in two different variables.\n",
    "# Do below operations on them:-\n",
    "# Compare these two values with below operator:-\n",
    "# Greater than, '>'\n",
    "# Smaller than, '<'\n",
    "# Greater than or equal to, '>='\n",
    "# Less than or equal to, '<='\n",
    "# Observe their output(return type should be boolean)\n",
    "\n",
    "a = True\n",
    "b = False\n",
    "\n",
    "print(a > b)\n",
    "print(a < b)\n",
    "print(a >= b)\n",
    "print(a <= b)"
   ]
  },
  {
   "cell_type": "code",
   "execution_count": 5,
   "id": "825fd857",
   "metadata": {},
   "outputs": [
    {
     "name": "stdout",
     "output_type": "stream",
     "text": [
      "False\n",
      "True\n"
     ]
    }
   ],
   "source": [
    "# Equality Operator\n",
    "# Take two different boolean values.\n",
    "# Store them in two different variables.\n",
    "# Equate them using equality operators (==, !=)\n",
    "# Observe the output(return type should be boolean)\n",
    "\n",
    "a = True\n",
    "b = False\n",
    "\n",
    "print(a == b)\n",
    "print(a != b)"
   ]
  },
  {
   "cell_type": "code",
   "execution_count": 6,
   "id": "c9b7f9e6",
   "metadata": {},
   "outputs": [
    {
     "name": "stdout",
     "output_type": "stream",
     "text": [
      "True\n",
      "False\n",
      "False\n",
      "False\n",
      "True\n",
      "True\n",
      "True\n",
      "False\n",
      "False\n",
      "True\n"
     ]
    }
   ],
   "source": [
    "# Logical operators\n",
    "# Observe the output of below code\n",
    "\n",
    "# Cross check the output manually\n",
    "print(True and True)\n",
    "#----------------------------------------->Output is True\n",
    "\n",
    "print(False and True)\n",
    "#----------------------------------------->Output is False\n",
    "print(True and False)\n",
    "#----------------------------------------->Output is False\n",
    "print(False and False)\n",
    "#----------------------------------------->Output is False\n",
    "print(True or True)\n",
    "#----------------------------------------->Output is True\n",
    "print(False or True)\n",
    "#----------------------------------------->Output is True\n",
    "print(True or False)\n",
    "#----------------------------------------->Output is True\n",
    "print(False or False)\n",
    "#----------------------------------------->Output is False\n",
    "print(not True)\n",
    "#----------------------------------------->Output is False\n",
    "print(not False)\n",
    "#----------------------------------------->Output is True"
   ]
  },
  {
   "cell_type": "code",
   "execution_count": 7,
   "id": "268fd3e9",
   "metadata": {},
   "outputs": [
    {
     "name": "stdout",
     "output_type": "stream",
     "text": [
      "True\n",
      "True\n",
      "True\n",
      "-2\n",
      "4\n",
      "0\n"
     ]
    }
   ],
   "source": [
    "# Bitwise Operators\n",
    "# Do below operations on the values provided below:-\n",
    "\n",
    "# Bitwise and(&) --------------> True, True -------> Output is True\n",
    "print(True & True)\n",
    "\n",
    "# Bitwise or(|) --------------> True, False -------> Output is True\n",
    "print(True | False)\n",
    "\n",
    "# Bitwise(^) --------------> True, False -------> Output is True\n",
    "print(True ^ False)\n",
    "\n",
    "# Bitwise negation(~) ---------> True -------> Output is -2\n",
    "print(~True)\n",
    "\n",
    "# Bitwise left shift ---------> True,2 -------> Output is 4\n",
    "print(True << 2)\n",
    "\n",
    "# Bitwise right shift ---------> True,2 -------> Output is 0\n",
    "print(True >> 2)\n",
    "\n",
    "# Cross check the output manually"
   ]
  },
  {
   "cell_type": "code",
   "execution_count": 8,
   "id": "47d6d1f5",
   "metadata": {},
   "outputs": [
    {
     "name": "stdout",
     "output_type": "stream",
     "text": [
      "True\n",
      "False\n",
      "True\n",
      "False\n"
     ]
    }
   ],
   "source": [
    "# What is the output of expression inside print statement. Cross check\n",
    "# before running the program.\n",
    "\n",
    "a = True\n",
    "b = True\n",
    "print(a is b) #True or False? #\n",
    "\n",
    "print(a is not b) #True or False?\n",
    "a = False\n",
    "b = False\n",
    "print(a is b) #True or False?\n",
    "print(a is not b) #True or False?"
   ]
  },
  {
   "cell_type": "code",
   "execution_count": 9,
   "id": "4a45be5d",
   "metadata": {},
   "outputs": [
    {
     "name": "stdout",
     "output_type": "stream",
     "text": [
      "True\n",
      "True\n",
      "True\n",
      "True\n",
      "True\n"
     ]
    }
   ],
   "source": [
    "# Membership operation\n",
    "# in, not in are two membership operators and it returns boolean value\n",
    "print(True in [10,10.20,10+20j,'Python', True])\n",
    "print(False in (10,10.20,10+20j,'Python', False))\n",
    "print(True in {1,2,3, True})\n",
    "print(True in {True:100, False:200, True:300})\n",
    "print(False in {True:100, False:200, True:300})"
   ]
  }
 ],
 "metadata": {
  "kernelspec": {
   "display_name": "Python 3 (ipykernel)",
   "language": "python",
   "name": "python3"
  },
  "language_info": {
   "codemirror_mode": {
    "name": "ipython",
    "version": 3
   },
   "file_extension": ".py",
   "mimetype": "text/x-python",
   "name": "python",
   "nbconvert_exporter": "python",
   "pygments_lexer": "ipython3",
   "version": "3.9.7"
  }
 },
 "nbformat": 4,
 "nbformat_minor": 5
}
